{
 "cells": [
  {
   "cell_type": "markdown",
   "metadata": {},
   "source": [
    "1. at lweast 60 rows\n",
    "2. daily\n",
    "3. at least 5 attributes of different measurement scales, including a \"class\" atrribute to be used for classification  (e.g. the data is labeled and can be used with supervised machine learning algorithms)\n",
    "4. It contains at least two tables that can be joined (e.g. each table is from a different data source. For examples of this, consider:\n",
    "My YouTube Analytics CSV file and the days of the week CSV file from DA3) \n",
    "The API data you explored in DA4 that was possibly related to your project\n",
    "\n",
    "* Include your dataset files in your Github repo.\n",
    "\n",
    "Hypothesis: Is the mean total screen time on weekends greater than the total screen time data mean on weekdays\t\t\t\n",
    "gap from march 10 - 27\t\t\t\t\n",
    "Feb 13 - April 1\n"
   ]
  }
 ],
 "metadata": {
  "language_info": {
   "name": "python"
  },
  "orig_nbformat": 4
 },
 "nbformat": 4,
 "nbformat_minor": 2
}
